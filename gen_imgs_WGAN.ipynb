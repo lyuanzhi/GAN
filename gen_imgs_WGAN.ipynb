{
 "cells": [
  {
   "cell_type": "code",
   "execution_count": 4,
   "id": "47c9a115-3820-4d04-938b-d17c3d91dcdf",
   "metadata": {},
   "outputs": [
    {
     "name": "stdout",
     "output_type": "stream",
     "text": [
      "torch.Size([10000, 32, 32, 3])\n"
     ]
    }
   ],
   "source": [
    "import torch\n",
    "import torch.nn as nn\n",
    "import torch.nn.functional as F\n",
    "import torch.optim as optim\n",
    "from torchvision import datasets, transforms\n",
    "from torch.utils.data import DataLoader\n",
    "import matplotlib.pyplot as plt\n",
    "import numpy as np\n",
    "from PIL import Image\n",
    "\n",
    "class Generator(nn.Module):\n",
    "    def __init__(self, z_dim):\n",
    "        super(Generator, self).__init__()\n",
    "        self.net = nn.Sequential(\n",
    "            nn.Linear(z_dim, 384 * 4 * 4),\n",
    "            nn.ReLU(True),\n",
    "\n",
    "            nn.Unflatten(-1, (384, 4, 4)),\n",
    "            nn.ConvTranspose2d(384, 192, 5, stride=2, padding=2, output_padding=1, bias=False),\n",
    "            nn.BatchNorm2d(192),\n",
    "            nn.ReLU(True),\n",
    "            \n",
    "            nn.ConvTranspose2d(192, 96, 5, stride=2, padding=2, output_padding=1, bias=False),\n",
    "            nn.BatchNorm2d(96),\n",
    "            nn.ReLU(True),\n",
    "            \n",
    "            nn.ConvTranspose2d(96, 3, 5, stride=2, padding=2, output_padding=1, bias=False),\n",
    "            nn.Tanh()\n",
    "        )\n",
    "\n",
    "    def forward(self, x):\n",
    "        return self.net(x)\n",
    "\n",
    "device = torch.device(\"cuda\" if torch.cuda.is_available() else \"cpu\")\n",
    "z_dim = 100\n",
    "# testing\n",
    "generator_test = Generator(z_dim).to(device)\n",
    "generator_test.load_state_dict(torch.load('./WGAN_With_Data_Enhance/generator_WGAN_'+str(400)+'.pth'))\n",
    "generator_test.eval()\n",
    "\n",
    "noise = torch.normal(0, 1, (10000, z_dim)).to(device)\n",
    "images = generator_test(noise)\n",
    "images = images.permute(0, 2, 3, 1)\n",
    "images = (images + 1.0) / 2.0\n",
    "images = (images * 255).to(torch.uint8)\n",
    "print(images.shape)\n",
    "\n",
    "images_np = images.detach().cpu().numpy()\n",
    "for i, img_array in enumerate(images_np):\n",
    "    img = Image.fromarray(img_array)\n",
    "    # print(img)\n",
    "    img.save(f'./WGAN_With_Data_Enhance/gen_imgs/image_{i}.png')"
   ]
  },
  {
   "cell_type": "code",
   "execution_count": null,
   "id": "d3439bfb-047c-410a-a4dd-d99bbea40a24",
   "metadata": {},
   "outputs": [],
   "source": []
  }
 ],
 "metadata": {
  "kernelspec": {
   "display_name": "Python 3 (ipykernel)",
   "language": "python",
   "name": "python3"
  },
  "language_info": {
   "codemirror_mode": {
    "name": "ipython",
    "version": 3
   },
   "file_extension": ".py",
   "mimetype": "text/x-python",
   "name": "python",
   "nbconvert_exporter": "python",
   "pygments_lexer": "ipython3",
   "version": "3.10.11"
  }
 },
 "nbformat": 4,
 "nbformat_minor": 5
}
